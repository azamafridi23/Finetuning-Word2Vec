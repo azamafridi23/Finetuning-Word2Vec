{
  "nbformat": 4,
  "nbformat_minor": 0,
  "metadata": {
    "colab": {
      "provenance": [],
      "gpuType": "T4"
    },
    "kernelspec": {
      "name": "python3",
      "display_name": "Python 3"
    },
    "language_info": {
      "name": "python"
    },
    "accelerator": "GPU",
    "gpuClass": "standard"
  },
  "cells": [
    {
      "cell_type": "code",
      "execution_count": 1,
      "metadata": {
        "colab": {
          "base_uri": "https://localhost:8080/"
        },
        "id": "XdubVA3DG9Rf",
        "outputId": "340f8785-8222-44a0-a970-d94dd585f3db"
      },
      "outputs": [
        {
          "output_type": "stream",
          "name": "stdout",
          "text": [
            "Looking in indexes: https://pypi.org/simple, https://us-python.pkg.dev/colab-wheels/public/simple/\n",
            "Requirement already satisfied: gensim in /usr/local/lib/python3.10/dist-packages (4.3.1)\n",
            "Requirement already satisfied: numpy>=1.18.5 in /usr/local/lib/python3.10/dist-packages (from gensim) (1.22.4)\n",
            "Requirement already satisfied: smart-open>=1.8.1 in /usr/local/lib/python3.10/dist-packages (from gensim) (6.3.0)\n",
            "Requirement already satisfied: scipy>=1.7.0 in /usr/local/lib/python3.10/dist-packages (from gensim) (1.10.1)\n",
            "Looking in indexes: https://pypi.org/simple, https://us-python.pkg.dev/colab-wheels/public/simple/\n",
            "Collecting python-Levenshtein\n",
            "  Downloading python_Levenshtein-0.21.0-py3-none-any.whl (9.4 kB)\n",
            "Collecting Levenshtein==0.21.0\n",
            "  Downloading Levenshtein-0.21.0-cp310-cp310-manylinux_2_17_x86_64.manylinux2014_x86_64.whl (174 kB)\n",
            "\u001b[2K     \u001b[90m━━━━━━━━━━━━━━━━━━━━━━━━━━━━━━━━━━━━━━\u001b[0m \u001b[32m174.1/174.1 kB\u001b[0m \u001b[31m15.4 MB/s\u001b[0m eta \u001b[36m0:00:00\u001b[0m\n",
            "\u001b[?25hCollecting rapidfuzz<4.0.0,>=2.3.0\n",
            "  Downloading rapidfuzz-3.0.0-cp310-cp310-manylinux_2_17_x86_64.manylinux2014_x86_64.whl (3.0 MB)\n",
            "\u001b[2K     \u001b[90m━━━━━━━━━━━━━━━━━━━━━━━━━━━━━━━━━━━━━━━━\u001b[0m \u001b[32m3.0/3.0 MB\u001b[0m \u001b[31m100.0 MB/s\u001b[0m eta \u001b[36m0:00:00\u001b[0m\n",
            "\u001b[?25hInstalling collected packages: rapidfuzz, Levenshtein, python-Levenshtein\n",
            "Successfully installed Levenshtein-0.21.0 python-Levenshtein-0.21.0 rapidfuzz-3.0.0\n"
          ]
        }
      ],
      "source": [
        "!pip install gensim\n",
        "!pip install python-Levenshtein"
      ]
    },
    {
      "cell_type": "code",
      "source": [
        "import pandas as pd\n",
        "import numpy as np\n",
        "import gensim"
      ],
      "metadata": {
        "id": "saHBBAfESt08"
      },
      "execution_count": 6,
      "outputs": []
    },
    {
      "cell_type": "code",
      "source": [
        "df = pd.read_json(\"/content/drive/MyDrive/word2vec/Cell_Phones_and_Accessories_5.json\", lines=True)\n",
        "df"
      ],
      "metadata": {
        "colab": {
          "base_uri": "https://localhost:8080/",
          "height": 641
        },
        "id": "Ea0DQ39BHAAL",
        "outputId": "45b04539-14ae-41d6-bf87-855486d96aee"
      },
      "execution_count": 4,
      "outputs": [
        {
          "output_type": "execute_result",
          "data": {
            "text/plain": [
              "            reviewerID        asin       reviewerName helpful  \\\n",
              "0       A30TL5EWN6DFXT  120401325X          christina  [0, 0]   \n",
              "1        ASY55RVNIL0UD  120401325X           emily l.  [0, 0]   \n",
              "2       A2TMXE2AFO7ONB  120401325X              Erica  [0, 0]   \n",
              "3        AWJ0WZQYMYFQ4  120401325X                 JM  [4, 4]   \n",
              "4        ATX7CZYFXI1KW  120401325X   patrice m rogoza  [2, 3]   \n",
              "...                ...         ...                ...     ...   \n",
              "194434  A1YMNTFLNDYQ1F  B00LORXVUE    eyeused2loveher  [0, 0]   \n",
              "194435  A15TX8B2L8B20S  B00LORXVUE       Jon Davidson  [0, 0]   \n",
              "194436  A3JI7QRZO1QG8X  B00LORXVUE  Joyce M. Davidson  [0, 0]   \n",
              "194437  A1NHB2VC68YQNM  B00LORXVUE     Nurse Farrugia  [0, 0]   \n",
              "194438  A1AG6U022WHXBF  B00LORXVUE     Trisha Crocker  [0, 0]   \n",
              "\n",
              "                                               reviewText  overall  \\\n",
              "0       They look good and stick good! I just don't li...        4   \n",
              "1       These stickers work like the review says they ...        5   \n",
              "2       These are awesome and make my phone look so st...        5   \n",
              "3       Item arrived in great time and was in perfect ...        4   \n",
              "4       awesome! stays on, and looks great. can be use...        5   \n",
              "...                                                   ...      ...   \n",
              "194434  Works great just like my original one. I reall...        5   \n",
              "194435  Great product. Great packaging. High quality a...        5   \n",
              "194436  This is a great cable, just as good as the mor...        5   \n",
              "194437  I really like it becasue it works well with my...        5   \n",
              "194438  product as described, I have wasted a lot of m...        5   \n",
              "\n",
              "                                                  summary  unixReviewTime  \\\n",
              "0                                              Looks Good      1400630400   \n",
              "1                                   Really great product.      1389657600   \n",
              "2                                          LOVE LOVE LOVE      1403740800   \n",
              "3                                                   Cute!      1382313600   \n",
              "4               leopard home button sticker for iphone 4s      1359849600   \n",
              "...                                                   ...             ...   \n",
              "194434                           This works just perfect!      1405900800   \n",
              "194435           Great replacement cable. Apple certified      1405900800   \n",
              "194436                                       Real quality      1405900800   \n",
              "194437  I really like it becasue it works well with my...      1405814400   \n",
              "194438              I have wasted a lot of money on cords      1405900800   \n",
              "\n",
              "         reviewTime  \n",
              "0       05 21, 2014  \n",
              "1       01 14, 2014  \n",
              "2       06 26, 2014  \n",
              "3       10 21, 2013  \n",
              "4        02 3, 2013  \n",
              "...             ...  \n",
              "194434  07 21, 2014  \n",
              "194435  07 21, 2014  \n",
              "194436  07 21, 2014  \n",
              "194437  07 20, 2014  \n",
              "194438  07 21, 2014  \n",
              "\n",
              "[194439 rows x 9 columns]"
            ],
            "text/html": [
              "\n",
              "  <div id=\"df-6c26cc19-4b88-4268-b1e8-9e3a49f98841\">\n",
              "    <div class=\"colab-df-container\">\n",
              "      <div>\n",
              "<style scoped>\n",
              "    .dataframe tbody tr th:only-of-type {\n",
              "        vertical-align: middle;\n",
              "    }\n",
              "\n",
              "    .dataframe tbody tr th {\n",
              "        vertical-align: top;\n",
              "    }\n",
              "\n",
              "    .dataframe thead th {\n",
              "        text-align: right;\n",
              "    }\n",
              "</style>\n",
              "<table border=\"1\" class=\"dataframe\">\n",
              "  <thead>\n",
              "    <tr style=\"text-align: right;\">\n",
              "      <th></th>\n",
              "      <th>reviewerID</th>\n",
              "      <th>asin</th>\n",
              "      <th>reviewerName</th>\n",
              "      <th>helpful</th>\n",
              "      <th>reviewText</th>\n",
              "      <th>overall</th>\n",
              "      <th>summary</th>\n",
              "      <th>unixReviewTime</th>\n",
              "      <th>reviewTime</th>\n",
              "    </tr>\n",
              "  </thead>\n",
              "  <tbody>\n",
              "    <tr>\n",
              "      <th>0</th>\n",
              "      <td>A30TL5EWN6DFXT</td>\n",
              "      <td>120401325X</td>\n",
              "      <td>christina</td>\n",
              "      <td>[0, 0]</td>\n",
              "      <td>They look good and stick good! I just don't li...</td>\n",
              "      <td>4</td>\n",
              "      <td>Looks Good</td>\n",
              "      <td>1400630400</td>\n",
              "      <td>05 21, 2014</td>\n",
              "    </tr>\n",
              "    <tr>\n",
              "      <th>1</th>\n",
              "      <td>ASY55RVNIL0UD</td>\n",
              "      <td>120401325X</td>\n",
              "      <td>emily l.</td>\n",
              "      <td>[0, 0]</td>\n",
              "      <td>These stickers work like the review says they ...</td>\n",
              "      <td>5</td>\n",
              "      <td>Really great product.</td>\n",
              "      <td>1389657600</td>\n",
              "      <td>01 14, 2014</td>\n",
              "    </tr>\n",
              "    <tr>\n",
              "      <th>2</th>\n",
              "      <td>A2TMXE2AFO7ONB</td>\n",
              "      <td>120401325X</td>\n",
              "      <td>Erica</td>\n",
              "      <td>[0, 0]</td>\n",
              "      <td>These are awesome and make my phone look so st...</td>\n",
              "      <td>5</td>\n",
              "      <td>LOVE LOVE LOVE</td>\n",
              "      <td>1403740800</td>\n",
              "      <td>06 26, 2014</td>\n",
              "    </tr>\n",
              "    <tr>\n",
              "      <th>3</th>\n",
              "      <td>AWJ0WZQYMYFQ4</td>\n",
              "      <td>120401325X</td>\n",
              "      <td>JM</td>\n",
              "      <td>[4, 4]</td>\n",
              "      <td>Item arrived in great time and was in perfect ...</td>\n",
              "      <td>4</td>\n",
              "      <td>Cute!</td>\n",
              "      <td>1382313600</td>\n",
              "      <td>10 21, 2013</td>\n",
              "    </tr>\n",
              "    <tr>\n",
              "      <th>4</th>\n",
              "      <td>ATX7CZYFXI1KW</td>\n",
              "      <td>120401325X</td>\n",
              "      <td>patrice m rogoza</td>\n",
              "      <td>[2, 3]</td>\n",
              "      <td>awesome! stays on, and looks great. can be use...</td>\n",
              "      <td>5</td>\n",
              "      <td>leopard home button sticker for iphone 4s</td>\n",
              "      <td>1359849600</td>\n",
              "      <td>02 3, 2013</td>\n",
              "    </tr>\n",
              "    <tr>\n",
              "      <th>...</th>\n",
              "      <td>...</td>\n",
              "      <td>...</td>\n",
              "      <td>...</td>\n",
              "      <td>...</td>\n",
              "      <td>...</td>\n",
              "      <td>...</td>\n",
              "      <td>...</td>\n",
              "      <td>...</td>\n",
              "      <td>...</td>\n",
              "    </tr>\n",
              "    <tr>\n",
              "      <th>194434</th>\n",
              "      <td>A1YMNTFLNDYQ1F</td>\n",
              "      <td>B00LORXVUE</td>\n",
              "      <td>eyeused2loveher</td>\n",
              "      <td>[0, 0]</td>\n",
              "      <td>Works great just like my original one. I reall...</td>\n",
              "      <td>5</td>\n",
              "      <td>This works just perfect!</td>\n",
              "      <td>1405900800</td>\n",
              "      <td>07 21, 2014</td>\n",
              "    </tr>\n",
              "    <tr>\n",
              "      <th>194435</th>\n",
              "      <td>A15TX8B2L8B20S</td>\n",
              "      <td>B00LORXVUE</td>\n",
              "      <td>Jon Davidson</td>\n",
              "      <td>[0, 0]</td>\n",
              "      <td>Great product. Great packaging. High quality a...</td>\n",
              "      <td>5</td>\n",
              "      <td>Great replacement cable. Apple certified</td>\n",
              "      <td>1405900800</td>\n",
              "      <td>07 21, 2014</td>\n",
              "    </tr>\n",
              "    <tr>\n",
              "      <th>194436</th>\n",
              "      <td>A3JI7QRZO1QG8X</td>\n",
              "      <td>B00LORXVUE</td>\n",
              "      <td>Joyce M. Davidson</td>\n",
              "      <td>[0, 0]</td>\n",
              "      <td>This is a great cable, just as good as the mor...</td>\n",
              "      <td>5</td>\n",
              "      <td>Real quality</td>\n",
              "      <td>1405900800</td>\n",
              "      <td>07 21, 2014</td>\n",
              "    </tr>\n",
              "    <tr>\n",
              "      <th>194437</th>\n",
              "      <td>A1NHB2VC68YQNM</td>\n",
              "      <td>B00LORXVUE</td>\n",
              "      <td>Nurse Farrugia</td>\n",
              "      <td>[0, 0]</td>\n",
              "      <td>I really like it becasue it works well with my...</td>\n",
              "      <td>5</td>\n",
              "      <td>I really like it becasue it works well with my...</td>\n",
              "      <td>1405814400</td>\n",
              "      <td>07 20, 2014</td>\n",
              "    </tr>\n",
              "    <tr>\n",
              "      <th>194438</th>\n",
              "      <td>A1AG6U022WHXBF</td>\n",
              "      <td>B00LORXVUE</td>\n",
              "      <td>Trisha Crocker</td>\n",
              "      <td>[0, 0]</td>\n",
              "      <td>product as described, I have wasted a lot of m...</td>\n",
              "      <td>5</td>\n",
              "      <td>I have wasted a lot of money on cords</td>\n",
              "      <td>1405900800</td>\n",
              "      <td>07 21, 2014</td>\n",
              "    </tr>\n",
              "  </tbody>\n",
              "</table>\n",
              "<p>194439 rows × 9 columns</p>\n",
              "</div>\n",
              "      <button class=\"colab-df-convert\" onclick=\"convertToInteractive('df-6c26cc19-4b88-4268-b1e8-9e3a49f98841')\"\n",
              "              title=\"Convert this dataframe to an interactive table.\"\n",
              "              style=\"display:none;\">\n",
              "        \n",
              "  <svg xmlns=\"http://www.w3.org/2000/svg\" height=\"24px\"viewBox=\"0 0 24 24\"\n",
              "       width=\"24px\">\n",
              "    <path d=\"M0 0h24v24H0V0z\" fill=\"none\"/>\n",
              "    <path d=\"M18.56 5.44l.94 2.06.94-2.06 2.06-.94-2.06-.94-.94-2.06-.94 2.06-2.06.94zm-11 1L8.5 8.5l.94-2.06 2.06-.94-2.06-.94L8.5 2.5l-.94 2.06-2.06.94zm10 10l.94 2.06.94-2.06 2.06-.94-2.06-.94-.94-2.06-.94 2.06-2.06.94z\"/><path d=\"M17.41 7.96l-1.37-1.37c-.4-.4-.92-.59-1.43-.59-.52 0-1.04.2-1.43.59L10.3 9.45l-7.72 7.72c-.78.78-.78 2.05 0 2.83L4 21.41c.39.39.9.59 1.41.59.51 0 1.02-.2 1.41-.59l7.78-7.78 2.81-2.81c.8-.78.8-2.07 0-2.86zM5.41 20L4 18.59l7.72-7.72 1.47 1.35L5.41 20z\"/>\n",
              "  </svg>\n",
              "      </button>\n",
              "      \n",
              "  <style>\n",
              "    .colab-df-container {\n",
              "      display:flex;\n",
              "      flex-wrap:wrap;\n",
              "      gap: 12px;\n",
              "    }\n",
              "\n",
              "    .colab-df-convert {\n",
              "      background-color: #E8F0FE;\n",
              "      border: none;\n",
              "      border-radius: 50%;\n",
              "      cursor: pointer;\n",
              "      display: none;\n",
              "      fill: #1967D2;\n",
              "      height: 32px;\n",
              "      padding: 0 0 0 0;\n",
              "      width: 32px;\n",
              "    }\n",
              "\n",
              "    .colab-df-convert:hover {\n",
              "      background-color: #E2EBFA;\n",
              "      box-shadow: 0px 1px 2px rgba(60, 64, 67, 0.3), 0px 1px 3px 1px rgba(60, 64, 67, 0.15);\n",
              "      fill: #174EA6;\n",
              "    }\n",
              "\n",
              "    [theme=dark] .colab-df-convert {\n",
              "      background-color: #3B4455;\n",
              "      fill: #D2E3FC;\n",
              "    }\n",
              "\n",
              "    [theme=dark] .colab-df-convert:hover {\n",
              "      background-color: #434B5C;\n",
              "      box-shadow: 0px 1px 3px 1px rgba(0, 0, 0, 0.15);\n",
              "      filter: drop-shadow(0px 1px 2px rgba(0, 0, 0, 0.3));\n",
              "      fill: #FFFFFF;\n",
              "    }\n",
              "  </style>\n",
              "\n",
              "      <script>\n",
              "        const buttonEl =\n",
              "          document.querySelector('#df-6c26cc19-4b88-4268-b1e8-9e3a49f98841 button.colab-df-convert');\n",
              "        buttonEl.style.display =\n",
              "          google.colab.kernel.accessAllowed ? 'block' : 'none';\n",
              "\n",
              "        async function convertToInteractive(key) {\n",
              "          const element = document.querySelector('#df-6c26cc19-4b88-4268-b1e8-9e3a49f98841');\n",
              "          const dataTable =\n",
              "            await google.colab.kernel.invokeFunction('convertToInteractive',\n",
              "                                                     [key], {});\n",
              "          if (!dataTable) return;\n",
              "\n",
              "          const docLinkHtml = 'Like what you see? Visit the ' +\n",
              "            '<a target=\"_blank\" href=https://colab.research.google.com/notebooks/data_table.ipynb>data table notebook</a>'\n",
              "            + ' to learn more about interactive tables.';\n",
              "          element.innerHTML = '';\n",
              "          dataTable['output_type'] = 'display_data';\n",
              "          await google.colab.output.renderOutput(dataTable, element);\n",
              "          const docLink = document.createElement('div');\n",
              "          docLink.innerHTML = docLinkHtml;\n",
              "          element.appendChild(docLink);\n",
              "        }\n",
              "      </script>\n",
              "    </div>\n",
              "  </div>\n",
              "  "
            ]
          },
          "metadata": {},
          "execution_count": 4
        }
      ]
    },
    {
      "cell_type": "code",
      "source": [
        "df.shape # 194439 rows and 9 columns"
      ],
      "metadata": {
        "colab": {
          "base_uri": "https://localhost:8080/"
        },
        "id": "2Vxh_ItiIZk0",
        "outputId": "f2601d2c-56cc-453c-9f4f-4561f3817ca4"
      },
      "execution_count": 5,
      "outputs": [
        {
          "output_type": "execute_result",
          "data": {
            "text/plain": [
              "(194439, 9)"
            ]
          },
          "metadata": {},
          "execution_count": 5
        }
      ]
    },
    {
      "cell_type": "code",
      "source": [],
      "metadata": {
        "id": "Ft7DDiPqIaJh"
      },
      "execution_count": null,
      "outputs": []
    },
    {
      "cell_type": "markdown",
      "source": [
        "# Simple Preprocessing & Tokenization\n",
        "The first thing to do for any data science task is to clean the data. For NLP, we apply various processing like converting all the words to lower case, trimming spaces, removing punctuations. This is something we will do over here too.\n",
        "\n",
        "Additionally, we can also remove stop words like 'and', 'or', 'is', 'the', 'a', 'an' and convert words to their root forms like 'running' to 'run'."
      ],
      "metadata": {
        "id": "UamLjvS1IdQF"
      }
    },
    {
      "cell_type": "code",
      "source": [
        "review_text = df.reviewText.apply(gensim.utils.simple_preprocess)"
      ],
      "metadata": {
        "id": "7aDgRA4wIeRE"
      },
      "execution_count": 7,
      "outputs": []
    },
    {
      "cell_type": "code",
      "source": [
        "review_text"
      ],
      "metadata": {
        "colab": {
          "base_uri": "https://localhost:8080/"
        },
        "id": "Bdm7npa8Ihjk",
        "outputId": "43f9a973-59f7-4a8c-dfed-fbe1193f7145"
      },
      "execution_count": 8,
      "outputs": [
        {
          "output_type": "execute_result",
          "data": {
            "text/plain": [
              "0         [they, look, good, and, stick, good, just, don...\n",
              "1         [these, stickers, work, like, the, review, say...\n",
              "2         [these, are, awesome, and, make, my, phone, lo...\n",
              "3         [item, arrived, in, great, time, and, was, in,...\n",
              "4         [awesome, stays, on, and, looks, great, can, b...\n",
              "                                ...                        \n",
              "194434    [works, great, just, like, my, original, one, ...\n",
              "194435    [great, product, great, packaging, high, quali...\n",
              "194436    [this, is, great, cable, just, as, good, as, t...\n",
              "194437    [really, like, it, becasue, it, works, well, w...\n",
              "194438    [product, as, described, have, wasted, lot, of...\n",
              "Name: reviewText, Length: 194439, dtype: object"
            ]
          },
          "metadata": {},
          "execution_count": 8
        }
      ]
    },
    {
      "cell_type": "code",
      "source": [
        "review_text.loc[0]"
      ],
      "metadata": {
        "colab": {
          "base_uri": "https://localhost:8080/"
        },
        "id": "ftT07ny3IjE0",
        "outputId": "2e7d1e77-c87d-45d1-8d1f-2d53aea590e7"
      },
      "execution_count": 9,
      "outputs": [
        {
          "output_type": "execute_result",
          "data": {
            "text/plain": [
              "['they',\n",
              " 'look',\n",
              " 'good',\n",
              " 'and',\n",
              " 'stick',\n",
              " 'good',\n",
              " 'just',\n",
              " 'don',\n",
              " 'like',\n",
              " 'the',\n",
              " 'rounded',\n",
              " 'shape',\n",
              " 'because',\n",
              " 'was',\n",
              " 'always',\n",
              " 'bumping',\n",
              " 'it',\n",
              " 'and',\n",
              " 'siri',\n",
              " 'kept',\n",
              " 'popping',\n",
              " 'up',\n",
              " 'and',\n",
              " 'it',\n",
              " 'was',\n",
              " 'irritating',\n",
              " 'just',\n",
              " 'won',\n",
              " 'buy',\n",
              " 'product',\n",
              " 'like',\n",
              " 'this',\n",
              " 'again']"
            ]
          },
          "metadata": {},
          "execution_count": 9
        }
      ]
    },
    {
      "cell_type": "code",
      "source": [
        "df.reviewText.loc[0]"
      ],
      "metadata": {
        "colab": {
          "base_uri": "https://localhost:8080/",
          "height": 52
        },
        "id": "0CzsJmL3Irtb",
        "outputId": "a96d56ac-819c-4c81-a15f-7a6941974843"
      },
      "execution_count": 10,
      "outputs": [
        {
          "output_type": "execute_result",
          "data": {
            "text/plain": [
              "\"They look good and stick good! I just don't like the rounded shape because I was always bumping it and Siri kept popping up and it was irritating. I just won't buy a product like this again\""
            ],
            "application/vnd.google.colaboratory.intrinsic+json": {
              "type": "string"
            }
          },
          "metadata": {},
          "execution_count": 10
        }
      ]
    },
    {
      "cell_type": "markdown",
      "source": [
        "# Training the Word2Vec Model\n",
        "Train the model for reviews. Use a window of size 10 i.e. 10 words before the present word and 10 words ahead. A sentence with at least 2 words should only be considered, configure this using min_count parameter."
      ],
      "metadata": {
        "id": "_6QNXUU2I1yz"
      }
    },
    {
      "cell_type": "code",
      "source": [
        "# Initializing the model\n",
        "\n",
        "model = gensim.models.Word2Vec(\n",
        "    window=10,\n",
        "    min_count=2,\n",
        "    workers=4,\n",
        ")"
      ],
      "metadata": {
        "id": "wUYF2GznI2ng"
      },
      "execution_count": 11,
      "outputs": []
    },
    {
      "cell_type": "markdown",
      "source": [
        "## Building and training the model!!"
      ],
      "metadata": {
        "id": "yDXmIlE9JKs4"
      }
    },
    {
      "cell_type": "code",
      "source": [
        "model.build_vocab(review_text, progress_per=1000)"
      ],
      "metadata": {
        "id": "X4h_KHGZJA79"
      },
      "execution_count": 12,
      "outputs": []
    },
    {
      "cell_type": "code",
      "source": [
        "model.train(review_text, total_examples=model.corpus_count, epochs=model.epochs)"
      ],
      "metadata": {
        "colab": {
          "base_uri": "https://localhost:8080/"
        },
        "id": "vRqKf1_LJCkh",
        "outputId": "f867b85f-e299-44a4-dfac-84f65dbeb143"
      },
      "execution_count": 13,
      "outputs": [
        {
          "output_type": "execute_result",
          "data": {
            "text/plain": [
              "(61508107, 83868975)"
            ]
          },
          "metadata": {},
          "execution_count": 13
        }
      ]
    },
    {
      "cell_type": "markdown",
      "source": [
        "# Saving the model"
      ],
      "metadata": {
        "id": "DutlHgOdJFfh"
      }
    },
    {
      "cell_type": "code",
      "source": [
        "model.save(\"./word2vec-amazon-cell-accessories-reviews-short.model\")"
      ],
      "metadata": {
        "id": "SKtSHZ5PJERX"
      },
      "execution_count": 14,
      "outputs": []
    },
    {
      "cell_type": "markdown",
      "source": [
        "# Finding Similar Words and Similarity between words"
      ],
      "metadata": {
        "id": "XEY0ICEjJR28"
      }
    },
    {
      "cell_type": "code",
      "source": [
        "model.wv.most_similar(\"bad\")"
      ],
      "metadata": {
        "colab": {
          "base_uri": "https://localhost:8080/"
        },
        "id": "gRW8YLMBJSXm",
        "outputId": "80bf6571-0668-4b1e-8bc5-17ee0b13cd35"
      },
      "execution_count": 15,
      "outputs": [
        {
          "output_type": "execute_result",
          "data": {
            "text/plain": [
              "[('terrible', 0.6700452566146851),\n",
              " ('shabby', 0.5967792868614197),\n",
              " ('horrible', 0.5943862199783325),\n",
              " ('good', 0.5804378390312195),\n",
              " ('awful', 0.5737003087997437),\n",
              " ('legit', 0.5603078603744507),\n",
              " ('crappy', 0.5480278730392456),\n",
              " ('lame', 0.5360655188560486),\n",
              " ('sad', 0.5333030819892883),\n",
              " ('poor', 0.5124370455741882)]"
            ]
          },
          "metadata": {},
          "execution_count": 15
        }
      ]
    },
    {
      "cell_type": "code",
      "source": [
        "model.wv.similarity(w1=\"cheap\", w2=\"inexpensive\")"
      ],
      "metadata": {
        "colab": {
          "base_uri": "https://localhost:8080/"
        },
        "id": "tvokYbCBJVIQ",
        "outputId": "f0e73c20-c6e1-48f5-f002-8f7195812056"
      },
      "execution_count": 16,
      "outputs": [
        {
          "output_type": "execute_result",
          "data": {
            "text/plain": [
              "0.5427038"
            ]
          },
          "metadata": {},
          "execution_count": 16
        }
      ]
    },
    {
      "cell_type": "code",
      "source": [
        "model.wv.similarity(w1=\"cheap\", w2=\"inexpensive\")"
      ],
      "metadata": {
        "colab": {
          "base_uri": "https://localhost:8080/"
        },
        "id": "uqRTr5H0JYHz",
        "outputId": "a6d4e35f-bbee-4b2b-8544-33224f7c76e8"
      },
      "execution_count": 17,
      "outputs": [
        {
          "output_type": "execute_result",
          "data": {
            "text/plain": [
              "0.5427038"
            ]
          },
          "metadata": {},
          "execution_count": 17
        }
      ]
    },
    {
      "cell_type": "code",
      "source": [],
      "metadata": {
        "id": "nPKvLI-uT5AF"
      },
      "execution_count": null,
      "outputs": []
    }
  ]
}